{
 "cells": [
  {
   "cell_type": "markdown",
   "metadata": {},
   "source": [
    "## Criteo Uplift Modeling"
   ]
  },
  {
   "cell_type": "code",
   "execution_count": 2,
   "metadata": {},
   "outputs": [],
   "source": [
    "import numpy as np\n",
    "import pandas as pd\n",
    "import matplotlib.pyplot as plt\n",
    "import japanize_matplotlib\n",
    "%matplotlib inline\n",
    "import matplotlib.style as style\n",
    "import seaborn as sns"
   ]
  },
  {
   "cell_type": "code",
   "execution_count": 3,
   "metadata": {},
   "outputs": [
    {
     "data": {
      "text/html": [
       "<div>\n",
       "<style scoped>\n",
       "    .dataframe tbody tr th:only-of-type {\n",
       "        vertical-align: middle;\n",
       "    }\n",
       "\n",
       "    .dataframe tbody tr th {\n",
       "        vertical-align: top;\n",
       "    }\n",
       "\n",
       "    .dataframe thead th {\n",
       "        text-align: right;\n",
       "    }\n",
       "</style>\n",
       "<table border=\"1\" class=\"dataframe\">\n",
       "  <thead>\n",
       "    <tr style=\"text-align: right;\">\n",
       "      <th></th>\n",
       "      <th>f0</th>\n",
       "      <th>f1</th>\n",
       "      <th>f2</th>\n",
       "      <th>f3</th>\n",
       "      <th>f4</th>\n",
       "      <th>f5</th>\n",
       "      <th>f6</th>\n",
       "      <th>f7</th>\n",
       "      <th>f8</th>\n",
       "      <th>f9</th>\n",
       "      <th>f10</th>\n",
       "      <th>f11</th>\n",
       "      <th>treatment</th>\n",
       "      <th>conversion</th>\n",
       "      <th>visit</th>\n",
       "      <th>exposure</th>\n",
       "    </tr>\n",
       "  </thead>\n",
       "  <tbody>\n",
       "    <tr>\n",
       "      <th>0</th>\n",
       "      <td>12.616365</td>\n",
       "      <td>10.059654</td>\n",
       "      <td>8.976429</td>\n",
       "      <td>4.679882</td>\n",
       "      <td>10.280525</td>\n",
       "      <td>4.115453</td>\n",
       "      <td>0.294443</td>\n",
       "      <td>4.833815</td>\n",
       "      <td>3.955396</td>\n",
       "      <td>13.190056</td>\n",
       "      <td>5.300375</td>\n",
       "      <td>-0.168679</td>\n",
       "      <td>1</td>\n",
       "      <td>0</td>\n",
       "      <td>0</td>\n",
       "      <td>0</td>\n",
       "    </tr>\n",
       "    <tr>\n",
       "      <th>1</th>\n",
       "      <td>12.616365</td>\n",
       "      <td>10.059654</td>\n",
       "      <td>9.002689</td>\n",
       "      <td>4.679882</td>\n",
       "      <td>10.280525</td>\n",
       "      <td>4.115453</td>\n",
       "      <td>0.294443</td>\n",
       "      <td>4.833815</td>\n",
       "      <td>3.955396</td>\n",
       "      <td>13.190056</td>\n",
       "      <td>5.300375</td>\n",
       "      <td>-0.168679</td>\n",
       "      <td>1</td>\n",
       "      <td>0</td>\n",
       "      <td>0</td>\n",
       "      <td>0</td>\n",
       "    </tr>\n",
       "    <tr>\n",
       "      <th>2</th>\n",
       "      <td>12.616365</td>\n",
       "      <td>10.059654</td>\n",
       "      <td>8.964775</td>\n",
       "      <td>4.679882</td>\n",
       "      <td>10.280525</td>\n",
       "      <td>4.115453</td>\n",
       "      <td>0.294443</td>\n",
       "      <td>4.833815</td>\n",
       "      <td>3.955396</td>\n",
       "      <td>13.190056</td>\n",
       "      <td>5.300375</td>\n",
       "      <td>-0.168679</td>\n",
       "      <td>1</td>\n",
       "      <td>0</td>\n",
       "      <td>0</td>\n",
       "      <td>0</td>\n",
       "    </tr>\n",
       "    <tr>\n",
       "      <th>3</th>\n",
       "      <td>12.616365</td>\n",
       "      <td>10.059654</td>\n",
       "      <td>9.002801</td>\n",
       "      <td>4.679882</td>\n",
       "      <td>10.280525</td>\n",
       "      <td>4.115453</td>\n",
       "      <td>0.294443</td>\n",
       "      <td>4.833815</td>\n",
       "      <td>3.955396</td>\n",
       "      <td>13.190056</td>\n",
       "      <td>5.300375</td>\n",
       "      <td>-0.168679</td>\n",
       "      <td>1</td>\n",
       "      <td>0</td>\n",
       "      <td>0</td>\n",
       "      <td>0</td>\n",
       "    </tr>\n",
       "    <tr>\n",
       "      <th>4</th>\n",
       "      <td>12.616365</td>\n",
       "      <td>10.059654</td>\n",
       "      <td>9.037999</td>\n",
       "      <td>4.679882</td>\n",
       "      <td>10.280525</td>\n",
       "      <td>4.115453</td>\n",
       "      <td>0.294443</td>\n",
       "      <td>4.833815</td>\n",
       "      <td>3.955396</td>\n",
       "      <td>13.190056</td>\n",
       "      <td>5.300375</td>\n",
       "      <td>-0.168679</td>\n",
       "      <td>1</td>\n",
       "      <td>0</td>\n",
       "      <td>0</td>\n",
       "      <td>0</td>\n",
       "    </tr>\n",
       "  </tbody>\n",
       "</table>\n",
       "</div>"
      ],
      "text/plain": [
       "          f0         f1        f2        f3         f4        f5        f6  \\\n",
       "0  12.616365  10.059654  8.976429  4.679882  10.280525  4.115453  0.294443   \n",
       "1  12.616365  10.059654  9.002689  4.679882  10.280525  4.115453  0.294443   \n",
       "2  12.616365  10.059654  8.964775  4.679882  10.280525  4.115453  0.294443   \n",
       "3  12.616365  10.059654  9.002801  4.679882  10.280525  4.115453  0.294443   \n",
       "4  12.616365  10.059654  9.037999  4.679882  10.280525  4.115453  0.294443   \n",
       "\n",
       "         f7        f8         f9       f10       f11  treatment  conversion  \\\n",
       "0  4.833815  3.955396  13.190056  5.300375 -0.168679          1           0   \n",
       "1  4.833815  3.955396  13.190056  5.300375 -0.168679          1           0   \n",
       "2  4.833815  3.955396  13.190056  5.300375 -0.168679          1           0   \n",
       "3  4.833815  3.955396  13.190056  5.300375 -0.168679          1           0   \n",
       "4  4.833815  3.955396  13.190056  5.300375 -0.168679          1           0   \n",
       "\n",
       "   visit  exposure  \n",
       "0      0         0  \n",
       "1      0         0  \n",
       "2      0         0  \n",
       "3      0         0  \n",
       "4      0         0  "
      ]
     },
     "execution_count": 3,
     "metadata": {},
     "output_type": "execute_result"
    }
   ],
   "source": [
    "df = pd.read_csv('criteo-uplift-v2.1.csv')\n",
    "# 特徴量を正規化\n",
    "df.head()"
   ]
  },
  {
   "cell_type": "markdown",
   "metadata": {},
   "source": [
    "## Cost Aware Assignment Problem"
   ]
  },
  {
   "cell_type": "code",
   "execution_count": 4,
   "metadata": {},
   "outputs": [],
   "source": [
    "# 訓練データとテストデータに分割\n",
    "from sklearn.model_selection import train_test_split\n",
    "\n",
    "X = df.drop(['treatment','exposure','visit','conversion'], axis=1)\n",
    "# Xの特徴量を正規化\n",
    "X = (X - X.mean()) / X.std()\n",
    "T = df['treatment']\n",
    "y_r = df['conversion']\n",
    "y_c =df['visit']\n",
    "\n",
    "X_train, X_test, T_train, T_test, y_r_train, y_r_test, y_c_train, y_c_test = train_test_split(X, T, y_r, y_c, train_size=0.7, random_state=42, stratify=T)\n",
    "# X_train, X_val, T_train, T_val, y_r_train, y_r_val, y_c_train, y_c_val = train_test_split(X_train_val, T_train_val, y_r_train_val, y_c_train_val, train_size=0.7, random_state=42, stratify=T_train_val)\n",
    "\n",
    "T_test = T_test.reset_index(drop=True)\n",
    "y_r_test = y_r_test.reset_index(drop=True)\n",
    "y_c_test = y_c_test.reset_index(drop=True)"
   ]
  },
  {
   "cell_type": "markdown",
   "metadata": {},
   "source": [
    "### 提案手法"
   ]
  },
  {
   "cell_type": "code",
   "execution_count": 4,
   "metadata": {},
   "outputs": [
    {
     "name": "stderr",
     "output_type": "stream",
     "text": [
      "48929it [01:12, 671.87it/s]\n"
     ]
    },
    {
     "name": "stdout",
     "output_type": "stream",
     "text": [
      "Epoch 0, Average Loss: 1.7328766759043186\n"
     ]
    },
    {
     "name": "stderr",
     "output_type": "stream",
     "text": [
      "48929it [01:11, 680.31it/s]\n",
      "48929it [01:08, 711.75it/s]\n",
      "48929it [01:08, 715.47it/s]\n",
      "48929it [01:09, 707.46it/s]\n",
      "48929it [01:12, 675.08it/s]\n",
      "48929it [01:07, 720.13it/s]\n",
      "48929it [01:09, 707.45it/s]\n",
      "48929it [01:08, 711.08it/s]\n",
      "48929it [01:08, 713.05it/s]\n",
      "48929it [01:09, 705.51it/s]\n"
     ]
    },
    {
     "name": "stdout",
     "output_type": "stream",
     "text": [
      "Epoch 10, Average Loss: 1.72153299021657\n"
     ]
    },
    {
     "name": "stderr",
     "output_type": "stream",
     "text": [
      "48929it [01:09, 708.10it/s]\n",
      "48929it [01:10, 691.15it/s]\n",
      "48929it [01:08, 709.90it/s]\n",
      "48929it [01:09, 707.48it/s]\n",
      "48929it [01:09, 704.00it/s]\n",
      "48929it [01:07, 721.95it/s]\n",
      "48929it [01:07, 722.67it/s]\n",
      "48929it [01:07, 721.34it/s]\n",
      "48929it [01:07, 722.36it/s]\n"
     ]
    }
   ],
   "source": [
    "import torch\n",
    "import torch.nn as nn\n",
    "import torch.optim as optim\n",
    "from torch.utils.data import TensorDataset, DataLoader\n",
    "from torch.optim import lr_scheduler\n",
    "from tqdm import tqdm\n",
    "\n",
    "# データをテンソルに変換\n",
    "X_train_tensor = torch.tensor(X_train.values, dtype=torch.float32)\n",
    "y_r_train_tensor = torch.tensor(y_r_train.values, dtype=torch.float32)\n",
    "y_c_train_tensor = torch.tensor(y_c_train.values, dtype=torch.float32)\n",
    "T_train_tensor = torch.tensor(T_train.values, dtype=torch.float32)\n",
    "# X_val_tensor = torch.tensor(X_val.values, dtype=torch.float32)\n",
    "# y_r_val_tensor = torch.tensor(y_r_val.values, dtype=torch.float32)\n",
    "# y_c_val_tensor = torch.tensor(y_c_val.values, dtype=torch.float32)\n",
    "# T_val_tensor = torch.tensor(T_val.values, dtype=torch.float32)\n",
    "\n",
    "# データをテンソルに変換してDatasetを作成\n",
    "dataset_1 = TensorDataset(X_train_tensor[T_train_tensor == 1], y_r_train_tensor[T_train_tensor == 1], y_c_train_tensor[T_train_tensor == 1])\n",
    "dataset_0 = TensorDataset(X_train_tensor[T_train_tensor == 0], y_r_train_tensor[T_train_tensor == 0], y_c_train_tensor[T_train_tensor == 0])\n",
    "# dataset_1_val = TensorDataset(X_val_tensor[T_val_tensor == 1], y_r_val_tensor[T_val_tensor == 1], y_c_val_tensor[T_val_tensor == 1])\n",
    "# dataset_0_val = TensorDataset(X_val_tensor[T_val_tensor == 0], y_r_val_tensor[T_val_tensor == 0], y_c_val_tensor[T_val_tensor == 0])\n",
    "\n",
    "# DataLoaderの定義\n",
    "loader_1 = DataLoader(dataset_1, batch_size=170, shuffle=True)\n",
    "loader_0 = DataLoader(dataset_0, batch_size=30, shuffle=True)\n",
    "# loader_1_val = DataLoader(dataset_1_val, batch_size=170, shuffle=True)\n",
    "# loader_0_val = DataLoader(dataset_0_val, batch_size=30, shuffle=True)\n",
    "\n",
    "# 非線形モデルの定義\n",
    "class NonLinearModel(nn.Module):\n",
    "    def __init__(self, input_dim):\n",
    "        super(NonLinearModel, self).__init__()\n",
    "        self.fc1 = nn.Linear(input_dim, 36)\n",
    "        # self.dropout1 = nn.Dropout(0.1)\n",
    "        self.fc2 = nn.Linear(36, 18)\n",
    "        # self.dropout2 = nn.Dropout(0.1)\n",
    "        self.fc3 = nn.Linear(18, 6)\n",
    "        # self.dropout3 = nn.Dropout(0.1)\n",
    "        self.fc4 = nn.Linear(6, 1)\n",
    "    \n",
    "    def forward(self, x):\n",
    "        x = torch.relu(self.fc1(x))\n",
    "        # x = self.dropout1(x)  # Dropoutを適用\n",
    "        x = torch.relu(self.fc2(x))\n",
    "        # x = self.dropout2(x) \n",
    "        x = torch.relu(self.fc3(x))\n",
    "        # x = self.dropout3(x)\n",
    "        x = torch.sigmoid(self.fc4(x))\n",
    "        return x\n",
    "\n",
    "\n",
    "# model = LogisticRegressionModel(X_train_tensor.shape[1])\n",
    "model = NonLinearModel(X_train_tensor.shape[1])\n",
    "\n",
    "# 損失関数の定義\n",
    "def custom_loss(y_r, y_c, q, group_size):\n",
    "    # qの値を1e-6と1-1e-6の間にクリップする\n",
    "    q = torch.clamp(q, 1e-8, 1 - 1e-8)\n",
    "    logit_q = torch.log(q / (1 - q))\n",
    "\n",
    "    # 損失計算\n",
    "    loss = -torch.sum(y_r * logit_q + y_c * torch.log(1 - q)) / group_size\n",
    "    return loss\n",
    "\n",
    "optimizer = optim.Adam(model.parameters(), lr=0.001)\n",
    "# 1. LambdaLR\n",
    "# lambda_scheduler = lr_scheduler.LambdaLR(optimizer, lr_lambda=lambda epoch: 0.95 ** epoch)\n",
    "\n",
    "loss_history, loss_history_val = [], []  # 損失を記録するリストを初期化\n",
    "\n",
    "# 学習ループ\n",
    "for epoch in range(20):\n",
    "    model.train()\n",
    "    total_loss = 0  # このエポックの総損失を追跡\n",
    "    count_batches = 0  # 処理したバッチの数\n",
    "\n",
    "    for (x_1, y_r_1, y_c_1), (x_0, y_r_0, y_c_0) in tqdm(zip(loader_1, loader_0)):\n",
    "        optimizer.zero_grad()\n",
    "        \n",
    "        q_1 = model(x_1)\n",
    "        q_0 = model(x_0)\n",
    "        \n",
    "        loss_1 = custom_loss(y_r_1, y_c_1, q_1, x_1.size(0))\n",
    "        loss_0 = custom_loss(y_r_0, y_c_0, q_0, x_0.size(0))\n",
    "        \n",
    "        loss = loss_1 - loss_0\n",
    "        # 1回だけlossをprint\n",
    "        # if count_batches == 0:\n",
    "            # print(f'Epoch {epoch}, Loss: {loss.item()}')\n",
    "        \n",
    "        loss.backward()\n",
    "        optimizer.step()\n",
    "\n",
    "        total_loss += loss.item()  # 総損失に今回のバッチの損失を加算\n",
    "        count_batches += 1\n",
    "\n",
    "    average_loss = total_loss / count_batches  # このエポックの平均損失\n",
    "    loss_history.append(average_loss)  # 損失履歴に追加\n",
    "    # 学習率のスケジューラを更新\n",
    "    # lambda_scheduler.step()\n",
    "\n",
    "    # 検証データでの損失を計算\n",
    "    # model.eval()\n",
    "    # total_val_loss = 0\n",
    "    # count_val_batches = 0\n",
    "    # with torch.no_grad():\n",
    "    #     for (x_1_val, y_r_1_val, y_c_1_val), (x_0_val, y_r_0_val, y_c_0_val) in zip(loader_1_val, loader_0_val):\n",
    "    #         q_1_val = model(x_1_val)\n",
    "    #         q_0_val = model(x_0_val)\n",
    "            \n",
    "    #         loss_1_val = custom_loss(y_r_1_val, y_c_1_val, q_1_val, x_1_val.size(0))\n",
    "    #         loss_0_val = custom_loss(y_r_0_val, y_c_0_val, q_0_val, x_0_val.size(0))\n",
    "            \n",
    "    #         loss_val = loss_1_val - loss_0_val\n",
    "    #         total_val_loss += loss_val.item()\n",
    "    #         count_val_batches += 1\n",
    "\n",
    "    # average_val_loss = total_val_loss / count_val_batches\n",
    "    # loss_history_val.append(average_val_loss)\n",
    "    \n",
    "\n",
    "    if epoch % 10 == 0:\n",
    "        print(f'Epoch {epoch}, Average Loss: {average_loss}')\n"
   ]
  },
  {
   "cell_type": "code",
   "execution_count": 5,
   "metadata": {},
   "outputs": [
    {
     "data": {
      "image/png": "[encoded data removed]",
      "text/plain": [
       "<Figure size 640x480 with 1 Axes>"
      ]
     },
     "metadata": {},
     "output_type": "display_data"
    }
   ],
   "source": [
    "# 損失の可視化\n",
    "plt.plot(loss_history)\n",
    "# plt.plot(loss_history_val)\n",
    "plt.title('Training and Validation Loss')\n",
    "plt.xlabel('Epoch')\n",
    "plt.ylabel('Loss')\n",
    "plt.show()\n",
    "\n",
    "# 評価\n",
    "model.eval()\n",
    "with torch.no_grad():\n",
    "    q_test = model(torch.tensor(X_test.values, dtype=torch.float32))\n",
    "    roi_direct = q_test.numpy()\n",
    "    roi_direct = roi_direct.reshape(1, -1)[0]"
   ]
  },
  {
   "cell_type": "markdown",
   "metadata": {},
   "source": [
    "### TPM-SL"
   ]
  },
  {
   "cell_type": "code",
   "execution_count": 6,
   "metadata": {},
   "outputs": [
    {
     "ename": "ModuleNotFoundError",
     "evalue": "No module named 'econml'",
     "output_type": "error",
     "traceback": [
      "\u001b[0;31m---------------------------------------------------------------------------\u001b[0m",
      "\u001b[0;31mModuleNotFoundError\u001b[0m                       Traceback (most recent call last)",
      "Cell \u001b[0;32mIn[6], line 3\u001b[0m\n\u001b[1;32m      1\u001b[0m \u001b[38;5;66;03m# 必要なライブラリのインポート\u001b[39;00m\n\u001b[1;32m      2\u001b[0m \u001b[38;5;28;01mfrom\u001b[39;00m \u001b[38;5;21;01msklearn\u001b[39;00m\u001b[38;5;21;01m.\u001b[39;00m\u001b[38;5;21;01mensemble\u001b[39;00m \u001b[38;5;28;01mimport\u001b[39;00m RandomForestRegressor\n\u001b[0;32m----> 3\u001b[0m \u001b[38;5;28;01mfrom\u001b[39;00m \u001b[38;5;21;01meconml\u001b[39;00m\u001b[38;5;21;01m.\u001b[39;00m\u001b[38;5;21;01mmetalearners\u001b[39;00m \u001b[38;5;28;01mimport\u001b[39;00m SLearner\n\u001b[1;32m      4\u001b[0m \u001b[38;5;28;01mfrom\u001b[39;00m \u001b[38;5;21;01msklearn\u001b[39;00m\u001b[38;5;21;01m.\u001b[39;00m\u001b[38;5;21;01mlinear_model\u001b[39;00m \u001b[38;5;28;01mimport\u001b[39;00m LinearRegression\n\u001b[1;32m      5\u001b[0m \u001b[38;5;28;01mfrom\u001b[39;00m \u001b[38;5;21;01msklearn\u001b[39;00m\u001b[38;5;21;01m.\u001b[39;00m\u001b[38;5;21;01mpreprocessing\u001b[39;00m \u001b[38;5;28;01mimport\u001b[39;00m MinMaxScaler\n",
      "\u001b[0;31mModuleNotFoundError\u001b[0m: No module named 'econml'"
     ]
    }
   ],
   "source": [
    "# 必要なライブラリのインポート\n",
    "from sklearn.ensemble import RandomForestRegressor\n",
    "from econml.metalearners import SLearner\n",
    "from sklearn.linear_model import LinearRegression\n",
    "from sklearn.preprocessing import MinMaxScaler\n",
    "from lightgbm import LGBMRegressor\n",
    "\n",
    "\n",
    "# モデルの構築\n",
    "models = LGBMRegressor()\n",
    "# models = LinearRegression()\n",
    "S_learner_r = SLearner(overall_model = models)\n",
    "S_learner_r.fit(y_r_train, T_train, X = X_train)\n",
    "\n",
    "S_learner_c = SLearner(overall_model = models)\n",
    "S_learner_c.fit(y_c_train, T_train, X = X_train)\n",
    "\n",
    "# 効果の推定\n",
    "tau_r = S_learner_r.effect(X_test)\n",
    "tau_c = S_learner_c.effect(X_test)\n",
    "roi_tpmsl = tau_r / tau_c\n",
    "\n",
    "scaler = MinMaxScaler()\n",
    "roi_tpmsl = scaler.fit_transform(roi_tpmsl.reshape(-1, 1)).flatten()\n",
    "\n",
    "# roi_tpmsl = sigmoid(roi_tpmsl)"
   ]
  },
  {
   "cell_type": "code",
   "execution_count": 11,
   "metadata": {},
   "outputs": [
    {
     "data": {
      "image/png": "[encoded data removed]",
      "text/plain": [
       "<Figure size 1000x600 with 1 Axes>"
      ]
     },
     "metadata": {},
     "output_type": "display_data"
    }
   ],
   "source": [
    "# 処理を関数化して同じ処理を二回行う\n",
    "def calculate_values(roi_scores):\n",
    "    sorted_indices = np.argsort(roi_scores)[::-1]\n",
    "    p_values = np.linspace(0, 1, 30)\n",
    "    incremental_costs = []\n",
    "    incremental_values = []\n",
    "    \n",
    "    for p in p_values:\n",
    "        top_p_indices = sorted_indices[:int(p * len(roi_scores))]\n",
    "        treatment_indices = (T_test[top_p_indices] == 1)\n",
    "        \n",
    "        # ATE (Average Treatment Effect) の計算\n",
    "        ATE_Yr = np.mean(y_r_test[top_p_indices][treatment_indices]) - np.mean(y_r_test[top_p_indices][~treatment_indices])\n",
    "        ATE_Yc = np.mean(y_c_test[top_p_indices][treatment_indices]) - np.mean(y_c_test[top_p_indices][~treatment_indices])\n",
    "        \n",
    "        incremental_costs.append(ATE_Yc * np.sum(treatment_indices))\n",
    "        incremental_values.append(ATE_Yr * np.sum(treatment_indices))\n",
    "        # print(ATE_Yr , ATE_Yc,np.sum(treatment_indices))\n",
    "        \n",
    "    return incremental_costs, incremental_values\n",
    "\n",
    "# それぞれのデータセットについて計算\n",
    "# incremental_costs_tpmsl, incremental_values_tpmsl = calculate_values(roi_tpmsl)\n",
    "incremental_costs_direct, incremental_values_direct = calculate_values(roi_direct)\n",
    "\n",
    "incremental_costs_direct[0] = 0\n",
    "incremental_values_direct[0] = 0\n",
    "incremental_costs_tpmsl[0] = 0\n",
    "incremental_values_tpmsl[0] = 0\n",
    "\n",
    "# 横軸と縦軸を正規化してグラフ描画\n",
    "plt.figure(figsize=(10, 6))\n",
    "plt.plot(incremental_costs_tpmsl / max(incremental_costs_tpmsl), incremental_values_tpmsl / max(incremental_values_tpmsl), marker='o', color='blue',  label='TPMSL')\n",
    "plt.plot(incremental_costs_direct / max(incremental_costs_direct), incremental_values_direct / max(incremental_values_direct), marker='x', color='green', label='Direct')\n",
    "# y = x の直線\n",
    "plt.plot([0, 1], [0, 1], linestyle='--', color='gray')\n",
    "plt.title('Cost Curve Comparison')\n",
    "plt.xlabel('Incremental Cost')\n",
    "plt.ylabel('Incremental Value')\n",
    "plt.legend()\n",
    "plt.grid(True)\n",
    "plt.show()"
   ]
  },
  {
   "cell_type": "code",
   "execution_count": null,
   "metadata": {},
   "outputs": [
    {
     "data": {
      "text/plain": [
       "1256"
      ]
     },
     "execution_count": 20,
     "metadata": {},
     "output_type": "execute_result"
    }
   ],
   "source": [
    "np.sum(y_r_test[np.argsort(roi_direct)[::-1]])"
   ]
  },
  {
   "cell_type": "code",
   "execution_count": null,
   "metadata": {},
   "outputs": [
    {
     "name": "stdout",
     "output_type": "stream",
     "text": [
      "0 0\n",
      "1 46\n",
      "4 83\n",
      "5 133\n",
      "6 169\n",
      "13 214\n",
      "18 266\n",
      "25 308\n",
      "30 362\n",
      "34 419\n",
      "38 472\n",
      "41 518\n",
      "45 569\n",
      "49 612\n",
      "51 667\n",
      "54 718\n",
      "55 750\n",
      "57 781\n",
      "60 822\n",
      "61 864\n",
      "65 917\n",
      "68 968\n",
      "73 1021\n",
      "75 1085\n",
      "81 1141\n",
      "83 1183\n",
      "85 1226\n",
      "85 1270\n",
      "86 1327\n",
      "90 1368\n",
      "94 1427\n",
      "96 1479\n",
      "98 1535\n",
      "99 1580\n",
      "101 1625\n",
      "103 1661\n",
      "109 1719\n",
      "114 1765\n",
      "114 1809\n",
      "117 1849\n",
      "119 1895\n",
      "122 1939\n"
     ]
    }
   ],
   "source": [
    "for i in range(42):\n",
    "    print(np.sum(y_r_test[np.argsort(roi_direct)[::-1][i:1000 * i]]), np.sum(y_c_test[np.argsort(roi_direct)[::-1][i:1000 * i]]))"
   ]
  },
  {
   "cell_type": "code",
   "execution_count": null,
   "metadata": {},
   "outputs": [
    {
     "data": {
      "text/plain": [
       "419388"
      ]
     },
     "execution_count": 30,
     "metadata": {},
     "output_type": "execute_result"
    }
   ],
   "source": [
    "len(y_r_test)"
   ]
  },
  {
   "cell_type": "markdown",
   "metadata": {},
   "source": [
    "## Cost Unaware Treament Assignment Problem"
   ]
  },
  {
   "cell_type": "markdown",
   "metadata": {},
   "source": [
    "### 訓練データとテストデータに分割"
   ]
  },
  {
   "cell_type": "code",
   "execution_count": 3,
   "metadata": {},
   "outputs": [],
   "source": [
    "# 訓練データとテストデータに分割\n",
    "from sklearn.model_selection import train_test_split\n",
    "\n",
    "X = df.drop(['treatment','exposure','visit','conversion'], axis=1)\n",
    "X = (X - X.mean()) / X.std()\n",
    "T = df['treatment']\n",
    "y = df['visit']\n",
    "\n",
    "X_train, X_test, T_train, T_test, y_train, y_test = train_test_split(X, T, y, test_size=0.3, random_state=42, stratify=T)"
   ]
  },
  {
   "cell_type": "markdown",
   "metadata": {},
   "source": [
    "### S Learner"
   ]
  },
  {
   "cell_type": "code",
   "execution_count": 71,
   "metadata": {},
   "outputs": [
    {
     "name": "stdout",
     "output_type": "stream",
     "text": [
      "[LightGBM] [Info] Auto-choosing row-wise multi-threading, the overhead of testing was 0.171248 seconds.\n",
      "You can set `force_row_wise=true` to remove the overhead.\n",
      "And if memory is not enough, you can set `force_col_wise=true`.\n",
      "[LightGBM] [Info] Total Bins 1573\n",
      "[LightGBM] [Info] Number of data points in the train set: 9785714, number of used features: 14\n",
      "[LightGBM] [Info] Start training from score 0.046992\n"
     ]
    }
   ],
   "source": [
    "# 必要なライブラリのインポート\n",
    "# from sklearn.ensemble import RandomForestRegressor\n",
    "from lightgbm import LGBMRegressor\n",
    "from econml.metalearners import SLearner\n",
    "from sklearn.linear_model import LinearRegression\n",
    "\n",
    "# モデルの構築\n",
    "# models = RandomForestRegressor(max_depth=10, random_state=0)\n",
    "models = LGBMRegressor()\n",
    "S_learner = SLearner(overall_model = models)\n",
    "S_learner.fit(y_train, T_train, X = X_train)\n",
    "\n",
    "# 効果の推定\n",
    "tau_sl = S_learner.effect(X_test)"
   ]
  },
  {
   "cell_type": "markdown",
   "metadata": {},
   "source": [
    "### X Learner"
   ]
  },
  {
   "cell_type": "code",
   "execution_count": 72,
   "metadata": {},
   "outputs": [
    {
     "name": "stdout",
     "output_type": "stream",
     "text": [
      "[LightGBM] [Info] Auto-choosing row-wise multi-threading, the overhead of testing was 0.034764 seconds.\n",
      "You can set `force_row_wise=true` to remove the overhead.\n",
      "And if memory is not enough, you can set `force_col_wise=true`.\n",
      "[LightGBM] [Info] Total Bins 1560\n",
      "[LightGBM] [Info] Number of data points in the train set: 1467856, number of used features: 12\n",
      "[LightGBM] [Info] Start training from score 0.038205\n",
      "[LightGBM] [Info] Auto-choosing row-wise multi-threading, the overhead of testing was 0.129977 seconds.\n",
      "You can set `force_row_wise=true` to remove the overhead.\n",
      "And if memory is not enough, you can set `force_col_wise=true`.\n",
      "[LightGBM] [Info] Total Bins 1569\n",
      "[LightGBM] [Info] Number of data points in the train set: 8317858, number of used features: 12\n",
      "[LightGBM] [Info] Start training from score 0.048543\n",
      "[LightGBM] [Info] Auto-choosing row-wise multi-threading, the overhead of testing was 0.028979 seconds.\n",
      "You can set `force_row_wise=true` to remove the overhead.\n",
      "And if memory is not enough, you can set `force_col_wise=true`.\n",
      "[LightGBM] [Info] Total Bins 1560\n",
      "[LightGBM] [Info] Number of data points in the train set: 1467856, number of used features: 12\n",
      "[LightGBM] [Info] Start training from score 0.006260\n",
      "[LightGBM] [Info] Auto-choosing row-wise multi-threading, the overhead of testing was 0.166108 seconds.\n",
      "You can set `force_row_wise=true` to remove the overhead.\n",
      "And if memory is not enough, you can set `force_col_wise=true`.\n",
      "[LightGBM] [Info] Total Bins 1569\n",
      "[LightGBM] [Info] Number of data points in the train set: 8317858, number of used features: 12\n",
      "[LightGBM] [Info] Start training from score 0.007704\n"
     ]
    }
   ],
   "source": [
    "# 必要なライブラリのインポート\n",
    "# from sklearn.ensemble import RandomForestRegressor\n",
    "from lightgbm import LGBMRegressor\n",
    "from sklearn.linear_model import LogisticRegression\n",
    "from econml.metalearners import XLearner\n",
    "\n",
    "# モデルの構築\n",
    "# models = RandomForestRegressor(max_depth=10, random_state=0)\n",
    "models = LGBMRegressor()\n",
    "propensity_model = LogisticRegression()\n",
    "X_learner = XLearner(models=models, propensity_model=propensity_model)\n",
    "X_learner.fit(y_train, T_train, X = X_train)\n",
    "\n",
    "# 効果の推定\n",
    "tau_xl = X_learner.effect(X_test)"
   ]
  },
  {
   "cell_type": "markdown",
   "metadata": {},
   "source": [
    "### Causal Forest"
   ]
  },
  {
   "cell_type": "code",
   "execution_count": 6,
   "metadata": {},
   "outputs": [],
   "source": [
    "# # causal forest での効果の推定\n",
    "# from econml.dml import CausalForestDML\n",
    "# from sklearn.linear_model import LinearRegression\n",
    "# from sklearn.linear_model import LogisticRegression\n",
    "# from statsmodels.nonparametric.kernel_regression import KernelReg\n",
    "\n",
    "# # モデルの構築\n",
    "# cf = CausalForestDML(model_y=LinearRegression(),\n",
    "#                      model_t=LogisticRegression(),\n",
    "#                      discrete_treatment=True,\n",
    "#                      n_estimators=4)\n",
    "# cf.fit(y_train, T_train, X=X_train)\n",
    "\n",
    "# # 効果の推定\n",
    "# tau_cf = cf.effect(X_test)"
   ]
  },
  {
   "cell_type": "markdown",
   "metadata": {},
   "source": [
    "### 提案手法"
   ]
  },
  {
   "cell_type": "code",
   "execution_count": 105,
   "metadata": {},
   "outputs": [
    {
     "name": "stdout",
     "output_type": "stream",
     "text": [
      "Optimized weights: [-0.34262721  0.02118485 -0.06239017  0.00068427 -0.09934177  0.06795854\n",
      " -0.52103246  0.03894786 -0.56234273  0.05290564  0.0282807  -0.03210977]\n",
      "Minimum loss: 0.21767220351176886\n"
     ]
    }
   ],
   "source": [
    "import numpy as np\n",
    "from scipy.optimize import minimize\n",
    "\n",
    "N1 = np.sum(T_train == 1)\n",
    "N0 = np.sum(T_train == 0)\n",
    "\n",
    "y_train_1 = y_train[T_train == 1]\n",
    "y_train_0 = y_train[T_train == 0]\n",
    "\n",
    "X_train_1 = X_train[T_train == 1]\n",
    "X_train_0 = X_train[T_train == 0]\n",
    "\n",
    "def softmax(scores): \n",
    "    if scores.ndim == 2:\n",
    "        scores = scores.T\n",
    "        scores = scores - np.max(scores, axis=0)\n",
    "        y = np.exp(scores) / np.sum(np.exp(scores), axis=0)\n",
    "        return y.T\n",
    "  \n",
    "    scores = scores - np.max(scores) # オーバーフロー対策 \n",
    "    return np.exp(scores) / np.sum(np.exp(scores))\n",
    "\n",
    "\n",
    "def softmax_naive(scores):\n",
    "    exps = np.exp(scores)\n",
    "    return exps / np.sum(exps)\n",
    "\n",
    "# 損失関数 L(s)\n",
    "def loss_function(w):\n",
    "    scores_1 = np.dot(X_train_1, w)\n",
    "    scores_0 = np.dot(X_train_0, w)\n",
    "    probabilities_1 = softmax(scores_1)\n",
    "    probabilities_0 = softmax(scores_0)\n",
    "    return -np.sum(y_train_1 * np.log(probabilities_1)) / N1 + np.sum(y_train_0 * np.log(probabilities_0)) / N0\n",
    "\n",
    "# 初期重み\n",
    "w_initial = np.random.rand(X_train.shape[1])\n",
    "\n",
    "# 最適化\n",
    "result = minimize(loss_function, w_initial, method='BFGS')\n",
    "\n",
    "if result.success:\n",
    "    print(\"Optimized weights:\", result.x)\n",
    "    print(\"Minimum loss:\", result.fun)\n",
    "else:\n",
    "    print(\"Optimization failed:\", result.message)\n",
    "\n",
    "# sとqの最適解の導出\n",
    "w = result.x\n",
    "scores = np.dot(X_test, w)\n",
    "probabilities = softmax(scores)\n",
    "tau_direct = probabilities * np.sum(np.exp(scores))"
   ]
  },
  {
   "cell_type": "code",
   "execution_count": 82,
   "metadata": {},
   "outputs": [
    {
     "name": "stderr",
     "output_type": "stream",
     "text": [
      "24465it [00:45, 532.57it/s]\n"
     ]
    },
    {
     "name": "stdout",
     "output_type": "stream",
     "text": [
      "Epoch 0, Average Loss: 86.81520851469712\n"
     ]
    },
    {
     "name": "stderr",
     "output_type": "stream",
     "text": [
      "24465it [00:49, 490.11it/s]\n"
     ]
    },
    {
     "name": "stdout",
     "output_type": "stream",
     "text": [
      "Epoch 1, Average Loss: 86.81521098703882\n"
     ]
    },
    {
     "name": "stderr",
     "output_type": "stream",
     "text": [
      "24465it [00:51, 478.43it/s]\n"
     ]
    },
    {
     "name": "stdout",
     "output_type": "stream",
     "text": [
      "Epoch 2, Average Loss: 86.81541175616195\n"
     ]
    },
    {
     "name": "stderr",
     "output_type": "stream",
     "text": [
      "24465it [00:49, 490.10it/s]\n"
     ]
    },
    {
     "name": "stdout",
     "output_type": "stream",
     "text": [
      "Epoch 3, Average Loss: 86.81530524619683\n"
     ]
    },
    {
     "name": "stderr",
     "output_type": "stream",
     "text": [
      "24465it [00:50, 488.56it/s]\n"
     ]
    },
    {
     "name": "stdout",
     "output_type": "stream",
     "text": [
      "Epoch 4, Average Loss: 86.81525368521898\n"
     ]
    },
    {
     "name": "stderr",
     "output_type": "stream",
     "text": [
      "24465it [00:50, 484.80it/s]\n"
     ]
    },
    {
     "name": "stdout",
     "output_type": "stream",
     "text": [
      "Epoch 5, Average Loss: 86.81535796339517\n"
     ]
    },
    {
     "name": "stderr",
     "output_type": "stream",
     "text": [
      "24465it [00:50, 484.76it/s]\n"
     ]
    },
    {
     "name": "stdout",
     "output_type": "stream",
     "text": [
      "Epoch 6, Average Loss: 86.81525590574232\n"
     ]
    },
    {
     "name": "stderr",
     "output_type": "stream",
     "text": [
      "24465it [00:50, 483.27it/s]\n"
     ]
    },
    {
     "name": "stdout",
     "output_type": "stream",
     "text": [
      "Epoch 7, Average Loss: 86.81535754820673\n"
     ]
    },
    {
     "name": "stderr",
     "output_type": "stream",
     "text": [
      "24465it [00:51, 478.56it/s]\n"
     ]
    },
    {
     "name": "stdout",
     "output_type": "stream",
     "text": [
      "Epoch 8, Average Loss: 86.81525249843726\n"
     ]
    },
    {
     "name": "stderr",
     "output_type": "stream",
     "text": [
      "24465it [00:51, 477.36it/s]\n"
     ]
    },
    {
     "name": "stdout",
     "output_type": "stream",
     "text": [
      "Epoch 9, Average Loss: 86.81515065668162\n"
     ]
    },
    {
     "name": "stderr",
     "output_type": "stream",
     "text": [
      "24465it [00:49, 491.01it/s]\n"
     ]
    },
    {
     "name": "stdout",
     "output_type": "stream",
     "text": [
      "Epoch 10, Average Loss: 86.81545895479609\n"
     ]
    },
    {
     "name": "stderr",
     "output_type": "stream",
     "text": [
      "24465it [00:52, 467.12it/s]\n"
     ]
    },
    {
     "name": "stdout",
     "output_type": "stream",
     "text": [
      "Epoch 11, Average Loss: 86.81535398411941\n"
     ]
    },
    {
     "name": "stderr",
     "output_type": "stream",
     "text": [
      "24465it [00:54, 452.33it/s]\n"
     ]
    },
    {
     "name": "stdout",
     "output_type": "stream",
     "text": [
      "Epoch 12, Average Loss: 86.81530312546528\n"
     ]
    },
    {
     "name": "stderr",
     "output_type": "stream",
     "text": [
      "13301it [00:29, 453.95it/s]\n"
     ]
    },
    {
     "ename": "KeyboardInterrupt",
     "evalue": "",
     "output_type": "error",
     "traceback": [
      "\u001b[0;31m---------------------------------------------------------------------------\u001b[0m",
      "\u001b[0;31mKeyboardInterrupt\u001b[0m                         Traceback (most recent call last)",
      "Cell \u001b[0;32mIn[82], line 77\u001b[0m\n\u001b[1;32m     74\u001b[0m total_loss \u001b[38;5;241m=\u001b[39m \u001b[38;5;241m0\u001b[39m  \u001b[38;5;66;03m# このエポックの総損失を追跡\u001b[39;00m\n\u001b[1;32m     75\u001b[0m count_batches \u001b[38;5;241m=\u001b[39m \u001b[38;5;241m0\u001b[39m  \u001b[38;5;66;03m# 処理したバッチの数\u001b[39;00m\n\u001b[0;32m---> 77\u001b[0m \u001b[38;5;28;01mfor\u001b[39;00m (x_1, y_1), (x_0, y_0) \u001b[38;5;129;01min\u001b[39;00m tqdm(\u001b[38;5;28mzip\u001b[39m(loader_1, loader_0)):\n\u001b[1;32m     78\u001b[0m     optimizer\u001b[38;5;241m.\u001b[39mzero_grad()\n\u001b[1;32m     80\u001b[0m     s_1 \u001b[38;5;241m=\u001b[39m model(x_1)\n",
      "File \u001b[0;32m~/python/test2/.venv/lib/python3.10/site-packages/tqdm/std.py:1181\u001b[0m, in \u001b[0;36mtqdm.__iter__\u001b[0;34m(self)\u001b[0m\n\u001b[1;32m   1178\u001b[0m time \u001b[38;5;241m=\u001b[39m \u001b[38;5;28mself\u001b[39m\u001b[38;5;241m.\u001b[39m_time\n\u001b[1;32m   1180\u001b[0m \u001b[38;5;28;01mtry\u001b[39;00m:\n\u001b[0;32m-> 1181\u001b[0m     \u001b[38;5;28;01mfor\u001b[39;00m obj \u001b[38;5;129;01min\u001b[39;00m iterable:\n\u001b[1;32m   1182\u001b[0m         \u001b[38;5;28;01myield\u001b[39;00m obj\n\u001b[1;32m   1183\u001b[0m         \u001b[38;5;66;03m# Update and possibly print the progressbar.\u001b[39;00m\n\u001b[1;32m   1184\u001b[0m         \u001b[38;5;66;03m# Note: does not call self.update(1) for speed optimisation.\u001b[39;00m\n",
      "File \u001b[0;32m~/python/test2/.venv/lib/python3.10/site-packages/torch/utils/data/dataloader.py:631\u001b[0m, in \u001b[0;36m_BaseDataLoaderIter.__next__\u001b[0;34m(self)\u001b[0m\n\u001b[1;32m    628\u001b[0m \u001b[38;5;28;01mif\u001b[39;00m \u001b[38;5;28mself\u001b[39m\u001b[38;5;241m.\u001b[39m_sampler_iter \u001b[38;5;129;01mis\u001b[39;00m \u001b[38;5;28;01mNone\u001b[39;00m:\n\u001b[1;32m    629\u001b[0m     \u001b[38;5;66;03m# TODO(https://github.com/pytorch/pytorch/issues/76750)\u001b[39;00m\n\u001b[1;32m    630\u001b[0m     \u001b[38;5;28mself\u001b[39m\u001b[38;5;241m.\u001b[39m_reset()  \u001b[38;5;66;03m# type: ignore[call-arg]\u001b[39;00m\n\u001b[0;32m--> 631\u001b[0m data \u001b[38;5;241m=\u001b[39m \u001b[38;5;28;43mself\u001b[39;49m\u001b[38;5;241;43m.\u001b[39;49m\u001b[43m_next_data\u001b[49m\u001b[43m(\u001b[49m\u001b[43m)\u001b[49m\n\u001b[1;32m    632\u001b[0m \u001b[38;5;28mself\u001b[39m\u001b[38;5;241m.\u001b[39m_num_yielded \u001b[38;5;241m+\u001b[39m\u001b[38;5;241m=\u001b[39m \u001b[38;5;241m1\u001b[39m\n\u001b[1;32m    633\u001b[0m \u001b[38;5;28;01mif\u001b[39;00m \u001b[38;5;28mself\u001b[39m\u001b[38;5;241m.\u001b[39m_dataset_kind \u001b[38;5;241m==\u001b[39m _DatasetKind\u001b[38;5;241m.\u001b[39mIterable \u001b[38;5;129;01mand\u001b[39;00m \\\n\u001b[1;32m    634\u001b[0m         \u001b[38;5;28mself\u001b[39m\u001b[38;5;241m.\u001b[39m_IterableDataset_len_called \u001b[38;5;129;01mis\u001b[39;00m \u001b[38;5;129;01mnot\u001b[39;00m \u001b[38;5;28;01mNone\u001b[39;00m \u001b[38;5;129;01mand\u001b[39;00m \\\n\u001b[1;32m    635\u001b[0m         \u001b[38;5;28mself\u001b[39m\u001b[38;5;241m.\u001b[39m_num_yielded \u001b[38;5;241m>\u001b[39m \u001b[38;5;28mself\u001b[39m\u001b[38;5;241m.\u001b[39m_IterableDataset_len_called:\n",
      "File \u001b[0;32m~/python/test2/.venv/lib/python3.10/site-packages/torch/utils/data/dataloader.py:675\u001b[0m, in \u001b[0;36m_SingleProcessDataLoaderIter._next_data\u001b[0;34m(self)\u001b[0m\n\u001b[1;32m    673\u001b[0m \u001b[38;5;28;01mdef\u001b[39;00m \u001b[38;5;21m_next_data\u001b[39m(\u001b[38;5;28mself\u001b[39m):\n\u001b[1;32m    674\u001b[0m     index \u001b[38;5;241m=\u001b[39m \u001b[38;5;28mself\u001b[39m\u001b[38;5;241m.\u001b[39m_next_index()  \u001b[38;5;66;03m# may raise StopIteration\u001b[39;00m\n\u001b[0;32m--> 675\u001b[0m     data \u001b[38;5;241m=\u001b[39m \u001b[38;5;28;43mself\u001b[39;49m\u001b[38;5;241;43m.\u001b[39;49m\u001b[43m_dataset_fetcher\u001b[49m\u001b[38;5;241;43m.\u001b[39;49m\u001b[43mfetch\u001b[49m\u001b[43m(\u001b[49m\u001b[43mindex\u001b[49m\u001b[43m)\u001b[49m  \u001b[38;5;66;03m# may raise StopIteration\u001b[39;00m\n\u001b[1;32m    676\u001b[0m     \u001b[38;5;28;01mif\u001b[39;00m \u001b[38;5;28mself\u001b[39m\u001b[38;5;241m.\u001b[39m_pin_memory:\n\u001b[1;32m    677\u001b[0m         data \u001b[38;5;241m=\u001b[39m _utils\u001b[38;5;241m.\u001b[39mpin_memory\u001b[38;5;241m.\u001b[39mpin_memory(data, \u001b[38;5;28mself\u001b[39m\u001b[38;5;241m.\u001b[39m_pin_memory_device)\n",
      "File \u001b[0;32m~/python/test2/.venv/lib/python3.10/site-packages/torch/utils/data/_utils/fetch.py:54\u001b[0m, in \u001b[0;36m_MapDatasetFetcher.fetch\u001b[0;34m(self, possibly_batched_index)\u001b[0m\n\u001b[1;32m     52\u001b[0m \u001b[38;5;28;01melse\u001b[39;00m:\n\u001b[1;32m     53\u001b[0m     data \u001b[38;5;241m=\u001b[39m \u001b[38;5;28mself\u001b[39m\u001b[38;5;241m.\u001b[39mdataset[possibly_batched_index]\n\u001b[0;32m---> 54\u001b[0m \u001b[38;5;28;01mreturn\u001b[39;00m \u001b[38;5;28;43mself\u001b[39;49m\u001b[38;5;241;43m.\u001b[39;49m\u001b[43mcollate_fn\u001b[49m\u001b[43m(\u001b[49m\u001b[43mdata\u001b[49m\u001b[43m)\u001b[49m\n",
      "File \u001b[0;32m~/python/test2/.venv/lib/python3.10/site-packages/torch/utils/data/_utils/collate.py:316\u001b[0m, in \u001b[0;36mdefault_collate\u001b[0;34m(batch)\u001b[0m\n\u001b[1;32m    255\u001b[0m \u001b[38;5;28;01mdef\u001b[39;00m \u001b[38;5;21mdefault_collate\u001b[39m(batch):\n\u001b[1;32m    256\u001b[0m \u001b[38;5;250m    \u001b[39m\u001b[38;5;124mr\u001b[39m\u001b[38;5;124;03m\"\"\"\u001b[39;00m\n\u001b[1;32m    257\u001b[0m \u001b[38;5;124;03m    Take in a batch of data and put the elements within the batch into a tensor with an additional outer dimension - batch size.\u001b[39;00m\n\u001b[1;32m    258\u001b[0m \n\u001b[0;32m   (...)\u001b[0m\n\u001b[1;32m    314\u001b[0m \u001b[38;5;124;03m        >>> default_collate(batch)  # Handle `CustomType` automatically\u001b[39;00m\n\u001b[1;32m    315\u001b[0m \u001b[38;5;124;03m    \"\"\"\u001b[39;00m\n\u001b[0;32m--> 316\u001b[0m     \u001b[38;5;28;01mreturn\u001b[39;00m \u001b[43mcollate\u001b[49m\u001b[43m(\u001b[49m\u001b[43mbatch\u001b[49m\u001b[43m,\u001b[49m\u001b[43m \u001b[49m\u001b[43mcollate_fn_map\u001b[49m\u001b[38;5;241;43m=\u001b[39;49m\u001b[43mdefault_collate_fn_map\u001b[49m\u001b[43m)\u001b[49m\n",
      "File \u001b[0;32m~/python/test2/.venv/lib/python3.10/site-packages/torch/utils/data/_utils/collate.py:173\u001b[0m, in \u001b[0;36mcollate\u001b[0;34m(batch, collate_fn_map)\u001b[0m\n\u001b[1;32m    170\u001b[0m transposed \u001b[38;5;241m=\u001b[39m \u001b[38;5;28mlist\u001b[39m(\u001b[38;5;28mzip\u001b[39m(\u001b[38;5;241m*\u001b[39mbatch))  \u001b[38;5;66;03m# It may be accessed twice, so we use a list.\u001b[39;00m\n\u001b[1;32m    172\u001b[0m \u001b[38;5;28;01mif\u001b[39;00m \u001b[38;5;28misinstance\u001b[39m(elem, \u001b[38;5;28mtuple\u001b[39m):\n\u001b[0;32m--> 173\u001b[0m     \u001b[38;5;28;01mreturn\u001b[39;00m [collate(samples, collate_fn_map\u001b[38;5;241m=\u001b[39mcollate_fn_map) \u001b[38;5;28;01mfor\u001b[39;00m samples \u001b[38;5;129;01min\u001b[39;00m transposed]  \u001b[38;5;66;03m# Backwards compatibility.\u001b[39;00m\n\u001b[1;32m    174\u001b[0m \u001b[38;5;28;01melse\u001b[39;00m:\n\u001b[1;32m    175\u001b[0m     \u001b[38;5;28;01mtry\u001b[39;00m:\n",
      "File \u001b[0;32m~/python/test2/.venv/lib/python3.10/site-packages/torch/utils/data/_utils/collate.py:173\u001b[0m, in \u001b[0;36m<listcomp>\u001b[0;34m(.0)\u001b[0m\n\u001b[1;32m    170\u001b[0m transposed \u001b[38;5;241m=\u001b[39m \u001b[38;5;28mlist\u001b[39m(\u001b[38;5;28mzip\u001b[39m(\u001b[38;5;241m*\u001b[39mbatch))  \u001b[38;5;66;03m# It may be accessed twice, so we use a list.\u001b[39;00m\n\u001b[1;32m    172\u001b[0m \u001b[38;5;28;01mif\u001b[39;00m \u001b[38;5;28misinstance\u001b[39m(elem, \u001b[38;5;28mtuple\u001b[39m):\n\u001b[0;32m--> 173\u001b[0m     \u001b[38;5;28;01mreturn\u001b[39;00m [\u001b[43mcollate\u001b[49m\u001b[43m(\u001b[49m\u001b[43msamples\u001b[49m\u001b[43m,\u001b[49m\u001b[43m \u001b[49m\u001b[43mcollate_fn_map\u001b[49m\u001b[38;5;241;43m=\u001b[39;49m\u001b[43mcollate_fn_map\u001b[49m\u001b[43m)\u001b[49m \u001b[38;5;28;01mfor\u001b[39;00m samples \u001b[38;5;129;01min\u001b[39;00m transposed]  \u001b[38;5;66;03m# Backwards compatibility.\u001b[39;00m\n\u001b[1;32m    174\u001b[0m \u001b[38;5;28;01melse\u001b[39;00m:\n\u001b[1;32m    175\u001b[0m     \u001b[38;5;28;01mtry\u001b[39;00m:\n",
      "File \u001b[0;32m~/python/test2/.venv/lib/python3.10/site-packages/torch/utils/data/_utils/collate.py:141\u001b[0m, in \u001b[0;36mcollate\u001b[0;34m(batch, collate_fn_map)\u001b[0m\n\u001b[1;32m    139\u001b[0m \u001b[38;5;28;01mif\u001b[39;00m collate_fn_map \u001b[38;5;129;01mis\u001b[39;00m \u001b[38;5;129;01mnot\u001b[39;00m \u001b[38;5;28;01mNone\u001b[39;00m:\n\u001b[1;32m    140\u001b[0m     \u001b[38;5;28;01mif\u001b[39;00m elem_type \u001b[38;5;129;01min\u001b[39;00m collate_fn_map:\n\u001b[0;32m--> 141\u001b[0m         \u001b[38;5;28;01mreturn\u001b[39;00m \u001b[43mcollate_fn_map\u001b[49m\u001b[43m[\u001b[49m\u001b[43melem_type\u001b[49m\u001b[43m]\u001b[49m\u001b[43m(\u001b[49m\u001b[43mbatch\u001b[49m\u001b[43m,\u001b[49m\u001b[43m \u001b[49m\u001b[43mcollate_fn_map\u001b[49m\u001b[38;5;241;43m=\u001b[39;49m\u001b[43mcollate_fn_map\u001b[49m\u001b[43m)\u001b[49m\n\u001b[1;32m    143\u001b[0m     \u001b[38;5;28;01mfor\u001b[39;00m collate_type \u001b[38;5;129;01min\u001b[39;00m collate_fn_map:\n\u001b[1;32m    144\u001b[0m         \u001b[38;5;28;01mif\u001b[39;00m \u001b[38;5;28misinstance\u001b[39m(elem, collate_type):\n",
      "File \u001b[0;32m~/python/test2/.venv/lib/python3.10/site-packages/torch/utils/data/_utils/collate.py:213\u001b[0m, in \u001b[0;36mcollate_tensor_fn\u001b[0;34m(batch, collate_fn_map)\u001b[0m\n\u001b[1;32m    211\u001b[0m     storage \u001b[38;5;241m=\u001b[39m elem\u001b[38;5;241m.\u001b[39m_typed_storage()\u001b[38;5;241m.\u001b[39m_new_shared(numel, device\u001b[38;5;241m=\u001b[39melem\u001b[38;5;241m.\u001b[39mdevice)\n\u001b[1;32m    212\u001b[0m     out \u001b[38;5;241m=\u001b[39m elem\u001b[38;5;241m.\u001b[39mnew(storage)\u001b[38;5;241m.\u001b[39mresize_(\u001b[38;5;28mlen\u001b[39m(batch), \u001b[38;5;241m*\u001b[39m\u001b[38;5;28mlist\u001b[39m(elem\u001b[38;5;241m.\u001b[39msize()))\n\u001b[0;32m--> 213\u001b[0m \u001b[38;5;28;01mreturn\u001b[39;00m \u001b[43mtorch\u001b[49m\u001b[38;5;241;43m.\u001b[39;49m\u001b[43mstack\u001b[49m\u001b[43m(\u001b[49m\u001b[43mbatch\u001b[49m\u001b[43m,\u001b[49m\u001b[43m \u001b[49m\u001b[38;5;241;43m0\u001b[39;49m\u001b[43m,\u001b[49m\u001b[43m \u001b[49m\u001b[43mout\u001b[49m\u001b[38;5;241;43m=\u001b[39;49m\u001b[43mout\u001b[49m\u001b[43m)\u001b[49m\n",
      "\u001b[0;31mKeyboardInterrupt\u001b[0m: "
     ]
    }
   ],
   "source": [
    "import torch\n",
    "import torch.nn as nn\n",
    "import torch.optim as optim\n",
    "from torch.utils.data import TensorDataset, DataLoader\n",
    "from torch.optim import lr_scheduler\n",
    "from tqdm import tqdm\n",
    "\n",
    "# データをテンソルに変換\n",
    "X_train_tensor = torch.tensor(X_train.values, dtype=torch.float32)\n",
    "y_train_tensor = torch.tensor(y_train.values, dtype=torch.float32)\n",
    "T_train_tensor = torch.tensor(T_train.values, dtype=torch.float32)\n",
    "# X_val_tensor = torch.tensor(X_val.values, dtype=torch.float32)\n",
    "# y_val_tensor = torch.tensor(y_val.values, dtype=torch.float32)\n",
    "# T_val_tensor = torch.tensor(T_val.values, dtype=torch.float32)\n",
    "\n",
    "# データをテンソルに変換してDatasetを作成\n",
    "dataset_1 = TensorDataset(X_train_tensor[T_train_tensor == 1], y_train_tensor[T_train_tensor == 1])\n",
    "dataset_0 = TensorDataset(X_train_tensor[T_train_tensor == 0], y_train_tensor[T_train_tensor == 0])\n",
    "# dataset_1_val = TensorDataset(X_val_tensor[T_val_tensor == 1], y_val_tensor[T_val_tensor == 1])\n",
    "# dataset_0_val = TensorDataset(X_val_tensor[T_val_tensor == 0], y_val_tensor[T_val_tensor == 0])\n",
    "\n",
    "# DataLoaderの定義\n",
    "loader_1 = DataLoader(dataset_1, batch_size=340, shuffle=True)\n",
    "loader_0 = DataLoader(dataset_0, batch_size=0, shuffle=True)\n",
    "# loader_1_val = DataLoader(dataset_1_val, batch_size=170, shuffle=True)\n",
    "# loader_0_val = DataLoader(dataset_0_val, batch_size=30, shuffle=True)\n",
    "\n",
    "# 非線形モデルの定義\n",
    "class NonLinearModel(nn.Module):\n",
    "    def __init__(self, input_dim):\n",
    "        super(NonLinearModel, self).__init__()\n",
    "        self.fc1 = nn.Linear(input_dim, 36)\n",
    "        # self.dropout1 = nn.Dropout(0.1) \n",
    "        self.fc2 = nn.Linear(36, 18)\n",
    "        # self.dropout2 = nn.Dropout(0.1)\n",
    "        self.fc3 = nn.Linear(18, 6)\n",
    "        # self.dropout3 = nn.Dropout(0.1)\n",
    "        self.fc4 = nn.Linear(6, 1)\n",
    "    \n",
    "    def forward(self, x):\n",
    "        x = torch.relu(self.fc1(x))\n",
    "        # x = self.dropout1(x)  # Dropoutを適用\n",
    "        x = torch.relu(self.fc2(x))\n",
    "        # x = self.dropout2(x) \n",
    "        x = torch.relu(self.fc3(x))\n",
    "        # x = self.dropout3(x)\n",
    "        # 恒等関数を適用\n",
    "        x = self.fc4(x)\n",
    "\n",
    "        return x\n",
    "\n",
    "\n",
    "# model = LogisticRegressionModel(X_train_tensor.shape[1])\n",
    "model = NonLinearModel(X_train_tensor.shape[1])\n",
    "\n",
    "# 損失関数の定義\n",
    "def custom_loss(y, q, group_size):\n",
    "    # qが0になるのを防ぐ\n",
    "    q = torch.clamp(q, 1e-8, 1 - 1e-8)\n",
    "\n",
    "    # 損失計算\n",
    "    loss = -torch.sum(y * torch.log(q)) / group_size\n",
    "    return loss\n",
    "\n",
    "optimizer = optim.Adam(model.parameters(), lr=0.001)\n",
    "# 1. LambdaLR\n",
    "# lambda_scheduler = lr_scheduler.LambdaLR(optimizer, lr_lambda=lambda epoch: 0.95 ** epoch)\n",
    "\n",
    "loss_history, loss_history_val = [], []  # 損失を記録するリストを初期化\n",
    "\n",
    "for (x_1, y_1), (x_0, y_0) in tqdm(zip(loader_1, loader_0)):\n",
    "    optimizer.zero_grad()\n",
    "    \n",
    "    s_1 = model(x_1)\n",
    "    s_0 = model(x_0)\n",
    "\n",
    "    q_1 = torch.softmax(s_1, dim=0)\n",
    "    q_0 = torch.softmax(s_0, dim=0)\n",
    "\n",
    "    loss_1 = custom_loss(y_1, q_1, x_1.size(0))\n",
    "    loss_0 = custom_loss(y_0, q_0, x_0.size(0))\n",
    "    \n",
    "    loss = loss_1 - loss_0\n",
    "    # 1回だけlossをprint\n",
    "    # if count_batches == 0:\n",
    "        # print(f'Epoch {epoch}, Loss: {loss.item()}')\n",
    "    \n",
    "    loss.backward()\n",
    "    optimizer.step()\n",
    "\n",
    "    total_loss += loss.item()  # 総損失に今回のバッチの損失を加算\n",
    "    count_batches += 1\n",
    "\n",
    "average_loss = total_loss / count_batches  # このエポックの平均損失\n",
    "loss_history.append(average_loss)  # 損失履歴に追加\n",
    "# 学習率のスケジューラを更新\n",
    "# lambda_scheduler.step()\n",
    "\n",
    "# 検証データでの損失を計算\n",
    "# model.eval()\n",
    "# total_val_loss = 0\n",
    "# count_val_batches = 0\n",
    "# with torch.no_grad():\n",
    "#     for (x_1_val, y_r_1_val, y_c_1_val), (x_0_val, y_r_0_val, y_c_0_val) in zip(loader_1_val, loader_0_val):\n",
    "#         q_1_val = model(x_1_val)\n",
    "#         q_0_val = model(x_0_val)\n",
    "        \n",
    "#         loss_1_val = custom_loss(y_r_1_val, y_c_1_val, q_1_val, x_1_val.size(0))\n",
    "#         loss_0_val = custom_loss(y_r_0_val, y_c_0_val, q_0_val, x_0_val.size(0))\n",
    "        \n",
    "#         loss_val = loss_1_val - loss_0_val\n",
    "#         total_val_loss += loss_val.item()\n",
    "#         count_val_batches += 1\n",
    "\n",
    "# average_val_loss = total_val_loss / count_val_batches\n",
    "# loss_history_val.append(average_val_loss)\n",
    "\n",
    "\n",
    "if epoch % 1 == 0:\n",
    "    print(f'Epoch {epoch}, Average Loss: {average_loss}')\n"
   ]
  },
  {
   "cell_type": "code",
   "execution_count": 83,
   "metadata": {},
   "outputs": [
    {
     "data": {
      "image/png": "[encoded data removed]",
      "text/plain": [
       "<Figure size 640x480 with 1 Axes>"
      ]
     },
     "metadata": {},
     "output_type": "display_data"
    }
   ],
   "source": [
    "# 損失の可視化\n",
    "plt.plot(loss_history)\n",
    "# plt.plot(loss_history_val)\n",
    "plt.title('Training and Validation Loss')\n",
    "plt.xlabel('Epoch')\n",
    "plt.ylabel('Loss')\n",
    "plt.show()\n",
    "\n",
    "# 評価\n",
    "model.eval()\n",
    "with torch.no_grad():\n",
    "    q_test = model(torch.tensor(X_test.values, dtype=torch.float32))\n",
    "    tau_direct = q_test.numpy() / np.sum(q_test.numpy())"
   ]
  },
  {
   "cell_type": "code",
   "execution_count": 106,
   "metadata": {},
   "outputs": [
    {
     "name": "stderr",
     "output_type": "stream",
     "text": [
      "Creating legend with loc=\"best\" can be slow with large amounts of data.\n"
     ]
    },
    {
     "data": {
      "image/png": "[encoded data removed]",
      "text/plain": [
       "<Figure size 1000x800 with 1 Axes>"
      ]
     },
     "metadata": {},
     "output_type": "display_data"
    },
    {
     "name": "stdout",
     "output_type": "stream",
     "text": [
      "SL Model Uplift AUC: 0.0357\n",
      "XL Model Uplift AUC: 0.0348\n",
      "Direct Model Uplift AUC: 0.0330\n"
     ]
    }
   ],
   "source": [
    "import matplotlib.pyplot as plt\n",
    "from sklift.viz import plot_uplift_curve\n",
    "\n",
    "# データとアップリフトスコアの例（ダミーデータを使用）\n",
    "# y_test, tau_sl, tau_xl, tau_direct, T_test に相当するデータを用意する\n",
    "\n",
    "# 描画設定\n",
    "fig, ax = plt.subplots(figsize=(10, 8))\n",
    "\n",
    "# SLモデルのアップリフト曲線\n",
    "plot_uplift_curve(y_true=y_test, uplift=tau_sl, treatment=T_test, perfect=False, random=False, ax=ax, name='SL Model')\n",
    "\n",
    "# XLモデルのアップリフト曲線\n",
    "plot_uplift_curve(y_true=y_test, uplift=tau_xl, treatment=T_test, perfect=False, random=False, ax=ax, name='XL Model')\n",
    "\n",
    "# causal forest でのアップリフト曲線\n",
    "# plot_uplift_curve(y_true=y_test, uplift=tau_cf, treatment=T_test, perfect=False, random=False, ax=ax, name='Causal Forest')\n",
    "\n",
    "# Directモデルのアップリフト曲線\n",
    "plot_uplift_curve(y_true=y_test, uplift=tau_direct, treatment=T_test, perfect=False, ax=ax, name='Direct Model')\n",
    "\n",
    "ax.set_title('Comparison of Uplift Models')\n",
    "ax.legend()\n",
    "plt.show()\n",
    "\n",
    "# AUCの計算\n",
    "from sklift.metrics import uplift_auc_score\n",
    "\n",
    "# SLモデルのAUC\n",
    "uplift_auc_sl = uplift_auc_score(y_true=y_test, uplift=tau_sl, treatment=T_test)\n",
    "print(f\"SL Model Uplift AUC: {uplift_auc_sl:.4f}\")\n",
    "\n",
    "# XLモデルのAUC\n",
    "uplift_auc_xl = uplift_auc_score(y_true=y_test, uplift=tau_xl, treatment=T_test)\n",
    "print(f\"XL Model Uplift AUC: {uplift_auc_xl:.4f}\")\n",
    "\n",
    "# causal forest でのAUC\n",
    "# uplift_auc_cf = uplift_auc_score(y_true=y_test, uplift=tau_cf, treatment=T_test)\n",
    "# print(f\"Causal Forest Uplift AUC: {uplift_auc_cf:.4f}\")\n",
    "\n",
    "# DirectモデルのAUC\n",
    "uplift_auc_direct = uplift_auc_score(y_true=y_test, uplift=tau_direct, treatment=T_test)\n",
    "print(f\"Direct Model Uplift AUC: {uplift_auc_direct:.4f}\")\n"
   ]
  },
  {
   "cell_type": "code",
   "execution_count": 13,
   "metadata": {},
   "outputs": [
    {
     "data": {
      "text/plain": [
       "array([[2.384428e-07],\n",
       "       [2.384428e-07],\n",
       "       [2.384428e-07],\n",
       "       ...,\n",
       "       [2.384428e-07],\n",
       "       [2.384428e-07],\n",
       "       [2.384428e-07]], dtype=float32)"
      ]
     },
     "execution_count": 13,
     "metadata": {},
     "output_type": "execute_result"
    }
   ],
   "source": [
    "tau_direct"
   ]
  },
  {
   "cell_type": "code",
   "execution_count": 14,
   "metadata": {},
   "outputs": [
    {
     "data": {
      "text/plain": [
       "array([0.00033222, 0.0039092 , 0.00015132, ..., 0.00033222, 0.00133341,\n",
       "       0.00180258])"
      ]
     },
     "execution_count": 14,
     "metadata": {},
     "output_type": "execute_result"
    }
   ],
   "source": [
    "tau_sl"
   ]
  }
 ],
 "metadata": {
  "kernelspec": {
   "display_name": ".venv",
   "language": "python",
   "name": "python3"
  },
  "language_info": {
   "codemirror_mode": {
    "name": "ipython",
    "version": 3
   },
   "file_extension": ".py",
   "mimetype": "text/x-python",
   "name": "python",
   "nbconvert_exporter": "python",
   "pygments_lexer": "ipython3",
   "version": "3.9.6"
  }
 },
 "nbformat": 4,
 "nbformat_minor": 2
}
